{
 "cells": [
  {
   "cell_type": "markdown",
   "id": "19c27174",
   "metadata": {},
   "source": [
    "# Image pre-processing"
   ]
  },
  {
   "cell_type": "code",
   "execution_count": 1,
   "id": "fe17d1e8",
   "metadata": {},
   "outputs": [],
   "source": [
    "from PIL import Image"
   ]
  },
  {
   "cell_type": "code",
   "execution_count": 19,
   "id": "c75a5422",
   "metadata": {},
   "outputs": [],
   "source": [
    "# crop original image, only keep middle left area\n",
    "def crop_img(img_path):\n",
    "    im = Image.open(img_path)\n",
    "    width, height = im.size\n",
    "    \n",
    "    left = 0\n",
    "    top = height / 4\n",
    "    right = width / 2\n",
    "    bottom = 3 * height / 4\n",
    "    \n",
    "    result = im.crop((left, top, right, bottom))\n",
    "    return result"
   ]
  },
  {
   "cell_type": "code",
   "execution_count": 16,
   "id": "142f92f5",
   "metadata": {},
   "outputs": [],
   "source": [
    "import numpy as np\n",
    "import os\n",
    "from tqdm import tqdm"
   ]
  },
  {
   "cell_type": "code",
   "execution_count": 29,
   "id": "d14932f2",
   "metadata": {},
   "outputs": [
    {
     "name": "stderr",
     "output_type": "stream",
     "text": [
      "100%|██████████████████████████████████████████████████████████████████████████████████| 18/18 [02:33<00:00,  8.54s/it]\n"
     ]
    }
   ],
   "source": [
    "# transform all frames into cropped image focusing on drill\n",
    "for dirname in tqdm(next(os.walk(\"data\"))[1]):\n",
    "    for filename in os.listdir(\"data/\"+dirname):\n",
    "        p = \"data/\"+dirname+\"/\"+filename\n",
    "        result = crop_img(p)\n",
    "        result.save(p, quality=95)"
   ]
  },
  {
   "cell_type": "markdown",
   "id": "b83ff641",
   "metadata": {},
   "source": [
    "# Split train and test dataset\n",
    "## train 80%, test 20%"
   ]
  },
  {
   "cell_type": "code",
   "execution_count": 23,
   "id": "f2871ff3",
   "metadata": {},
   "outputs": [],
   "source": [
    "import matplotlib.pyplot as plt\n",
    "import numpy as np\n",
    "import pathlib\n",
    "import tensorflow as tf\n",
    "\n",
    "from tensorflow import keras\n",
    "from tensorflow.keras import layers\n",
    "from tensorflow.keras.models import Sequential"
   ]
  },
  {
   "cell_type": "code",
   "execution_count": 53,
   "id": "4c56ba2d",
   "metadata": {},
   "outputs": [],
   "source": [
    "data_dir = pathlib.Path(\"./data/img\")\n",
    "img_height = 480\n",
    "img_width = 640\n",
    "batch_size = 128"
   ]
  },
  {
   "cell_type": "code",
   "execution_count": 54,
   "id": "efe0c0c5",
   "metadata": {},
   "outputs": [
    {
     "name": "stdout",
     "output_type": "stream",
     "text": [
      "Found 2157 files belonging to 9 classes.\n",
      "Using 1726 files for training.\n"
     ]
    }
   ],
   "source": [
    "# get train dataset from image directory\n",
    "train_ds = tf.keras.utils.image_dataset_from_directory(\n",
    "  data_dir,\n",
    "  validation_split=0.2,\n",
    "  subset=\"training\",\n",
    "  seed=123,\n",
    "  image_size=(img_height, img_width),\n",
    "  batch_size=batch_size)"
   ]
  },
  {
   "cell_type": "code",
   "execution_count": 55,
   "id": "c92dd89a",
   "metadata": {},
   "outputs": [
    {
     "name": "stdout",
     "output_type": "stream",
     "text": [
      "Found 2157 files belonging to 9 classes.\n",
      "Using 431 files for validation.\n"
     ]
    }
   ],
   "source": [
    "test_ds = tf.keras.utils.image_dataset_from_directory(\n",
    "  data_dir,\n",
    "  validation_split=0.2,\n",
    "  subset=\"validation\",\n",
    "  seed=123,\n",
    "  image_size=(img_height, img_width),\n",
    "  batch_size=batch_size)"
   ]
  },
  {
   "cell_type": "code",
   "execution_count": 56,
   "id": "198ce095",
   "metadata": {},
   "outputs": [
    {
     "name": "stdout",
     "output_type": "stream",
     "text": [
      "['2.0 mm x 26 mm', '2.0 mm x 28 mm', '2.8 mm x 22 mm', '3.5 mm x 19 mm', '3.5 mm x 22 mm', '3.5 mm x 28 mm', '3.5 mm x 30 mm', '4.2 mm x 22 mm', '4.2 mm x 30 mm']\n"
     ]
    }
   ],
   "source": [
    "class_names = train_ds.class_names\n",
    "print(class_names)"
   ]
  },
  {
   "cell_type": "code",
   "execution_count": 57,
   "id": "af435a32",
   "metadata": {},
   "outputs": [],
   "source": [
    "# normalize image dataset\n",
    "normalization_layer = layers.Rescaling(1./255)\n",
    "normalized_ds = train_ds.map(lambda x, y: (normalization_layer(x), y))\n",
    "image_batch, labels_batch = next(iter(normalized_ds))"
   ]
  },
  {
   "cell_type": "markdown",
   "id": "a083d14b",
   "metadata": {},
   "source": [
    "# First Model\n",
    "## 30 min to train, test accuracy around 95%"
   ]
  },
  {
   "cell_type": "code",
   "execution_count": 58,
   "id": "9ae248db",
   "metadata": {},
   "outputs": [],
   "source": [
    "num_classes = len(class_names)\n",
    "\n",
    "model = Sequential([\n",
    "  layers.Rescaling(1./255, input_shape=(img_height, img_width, 3)),\n",
    "  layers.Conv2D(16, 3, padding='same', activation='relu'),\n",
    "  layers.MaxPooling2D(),\n",
    "  layers.Conv2D(32, 3, padding='same', activation='relu'),\n",
    "  layers.MaxPooling2D(),\n",
    "  layers.Conv2D(64, 3, padding='same', activation='relu'),\n",
    "  layers.MaxPooling2D(),\n",
    "  layers.Flatten(),\n",
    "  layers.Dense(128, activation='relu'),\n",
    "  layers.Dense(num_classes)\n",
    "])"
   ]
  },
  {
   "cell_type": "code",
   "execution_count": 59,
   "id": "e4b926c9",
   "metadata": {},
   "outputs": [],
   "source": [
    "model.compile(optimizer='adam',\n",
    "              loss=tf.keras.losses.SparseCategoricalCrossentropy(from_logits=True),\n",
    "              metrics=['accuracy'])"
   ]
  },
  {
   "cell_type": "code",
   "execution_count": 60,
   "id": "08c1808e",
   "metadata": {},
   "outputs": [
    {
     "name": "stdout",
     "output_type": "stream",
     "text": [
      "Epoch 1/10\n",
      "14/14 [==============================] - 160s 11s/step - loss: 2.8755 - accuracy: 0.1535 - val_loss: 2.1400 - val_accuracy: 0.2436\n",
      "Epoch 2/10\n",
      "14/14 [==============================] - 231s 17s/step - loss: 1.9863 - accuracy: 0.3204 - val_loss: 1.7089 - val_accuracy: 0.4617\n",
      "Epoch 3/10\n",
      "14/14 [==============================] - 269s 19s/step - loss: 1.2706 - accuracy: 0.6338 - val_loss: 0.9164 - val_accuracy: 0.7193\n",
      "Epoch 4/10\n",
      "14/14 [==============================] - 146s 10s/step - loss: 0.4523 - accuracy: 0.8766 - val_loss: 0.4290 - val_accuracy: 0.8701\n",
      "Epoch 5/10\n",
      "14/14 [==============================] - 170s 12s/step - loss: 0.1395 - accuracy: 0.9768 - val_loss: 0.2702 - val_accuracy: 0.8956\n",
      "Epoch 6/10\n",
      "14/14 [==============================] - 188s 13s/step - loss: 0.0463 - accuracy: 0.9948 - val_loss: 0.1838 - val_accuracy: 0.9490\n",
      "Epoch 7/10\n",
      "14/14 [==============================] - 193s 14s/step - loss: 0.0215 - accuracy: 0.9988 - val_loss: 0.1799 - val_accuracy: 0.9513\n",
      "Epoch 8/10\n",
      "14/14 [==============================] - 191s 13s/step - loss: 0.0145 - accuracy: 1.0000 - val_loss: 0.1686 - val_accuracy: 0.9466\n",
      "Epoch 9/10\n",
      "14/14 [==============================] - 192s 13s/step - loss: 0.0115 - accuracy: 0.9971 - val_loss: 0.1246 - val_accuracy: 0.9629\n",
      "Epoch 10/10\n",
      "14/14 [==============================] - 191s 13s/step - loss: 0.0081 - accuracy: 0.9994 - val_loss: 0.1331 - val_accuracy: 0.9536\n"
     ]
    }
   ],
   "source": [
    "epochs=10\n",
    "history = model.fit(\n",
    "  train_ds,\n",
    "  validation_data=test_ds,\n",
    "  epochs=epochs\n",
    ")"
   ]
  },
  {
   "cell_type": "code",
   "execution_count": 61,
   "id": "cb63ca89",
   "metadata": {},
   "outputs": [
    {
     "data": {
      "image/png": "[encoded data removed]",
      "text/plain": [
       "<Figure size 576x576 with 2 Axes>"
      ]
     },
     "metadata": {
      "needs_background": "light"
     },
     "output_type": "display_data"
    }
   ],
   "source": [
    "# plot training and testing performance\n",
    "acc = history.history['accuracy']\n",
    "val_acc = history.history['val_accuracy']\n",
    "\n",
    "loss = history.history['loss']\n",
    "val_loss = history.history['val_loss']\n",
    "\n",
    "epochs_range = range(epochs)\n",
    "\n",
    "plt.figure(figsize=(8, 8))\n",
    "plt.subplot(1, 2, 1)\n",
    "plt.plot(epochs_range, acc, label='Training Accuracy')\n",
    "plt.plot(epochs_range, val_acc, label='Validation Accuracy')\n",
    "plt.legend(loc='lower right')\n",
    "plt.title('Training and Validation Accuracy')\n",
    "\n",
    "plt.subplot(1, 2, 2)\n",
    "plt.plot(epochs_range, loss, label='Training Loss')\n",
    "plt.plot(epochs_range, val_loss, label='Validation Loss')\n",
    "plt.legend(loc='upper right')\n",
    "plt.title('Training and Validation Loss')\n",
    "plt.show()"
   ]
  },
  {
   "cell_type": "code",
   "execution_count": 65,
   "id": "999c3656",
   "metadata": {},
   "outputs": [
    {
     "name": "stdout",
     "output_type": "stream",
     "text": [
      "1/1 [==============================] - 0s 58ms/step\n"
     ]
    },
    {
     "data": {
      "text/plain": [
       "'3.5 mm x 19 mm'"
      ]
     },
     "execution_count": 65,
     "metadata": {},
     "output_type": "execute_result"
    }
   ],
   "source": [
    "# try a test image\n",
    "test_img = \"origin_img/35x19dark_frames/frame0-00-20.00.png\"\n",
    "test_img = crop_img(test_img)\n",
    "\n",
    "img_array = tf.keras.utils.img_to_array(test_img)\n",
    "img_array = tf.expand_dims(img_array, 0) # Create a batch\n",
    "\n",
    "predictions = model.predict(img_array)\n",
    "score = tf.nn.softmax(predictions[0])\n",
    "class_names[np.argmax(score)]"
   ]
  },
  {
   "cell_type": "markdown",
   "id": "3e7c4fd6",
   "metadata": {},
   "source": [
    "# Second Model - add dropout\n",
    "## 50 min to train, test accuracy around 96%"
   ]
  },
  {
   "cell_type": "code",
   "execution_count": 68,
   "id": "1a0b6427",
   "metadata": {},
   "outputs": [],
   "source": [
    "model2 = Sequential([\n",
    "  layers.Rescaling(1./255, input_shape=(img_height, img_width, 3)),\n",
    "  layers.Conv2D(16, 3, padding='same', activation='relu'),\n",
    "  layers.MaxPooling2D(),\n",
    "  layers.Conv2D(32, 3, padding='same', activation='relu'),\n",
    "  layers.MaxPooling2D(),\n",
    "  layers.Conv2D(64, 3, padding='same', activation='relu'),\n",
    "  layers.MaxPooling2D(),\n",
    "  layers.Dropout(0.2), # add dropout to avoid overfitting\n",
    "  layers.Flatten(),\n",
    "  layers.Dense(128, activation='relu'),\n",
    "  layers.Dense(num_classes, name=\"outputs\")\n",
    "])"
   ]
  },
  {
   "cell_type": "code",
   "execution_count": 69,
   "id": "84cab1e0",
   "metadata": {},
   "outputs": [],
   "source": [
    "model2.compile(optimizer='adam',\n",
    "              loss=tf.keras.losses.SparseCategoricalCrossentropy(from_logits=True),\n",
    "              metrics=['accuracy'])"
   ]
  },
  {
   "cell_type": "code",
   "execution_count": 70,
   "id": "634b8e56",
   "metadata": {},
   "outputs": [
    {
     "name": "stdout",
     "output_type": "stream",
     "text": [
      "Epoch 1/15\n",
      "14/14 [==============================] - 143s 10s/step - loss: 4.6588 - accuracy: 0.1576 - val_loss: 2.1985 - val_accuracy: 0.1508\n",
      "Epoch 2/15\n",
      "14/14 [==============================] - 164s 12s/step - loss: 2.1194 - accuracy: 0.3210 - val_loss: 1.9749 - val_accuracy: 0.3550\n",
      "Epoch 3/15\n",
      "14/14 [==============================] - 203s 14s/step - loss: 1.6888 - accuracy: 0.5272 - val_loss: 1.7005 - val_accuracy: 0.4060\n",
      "Epoch 4/15\n",
      "14/14 [==============================] - 213s 15s/step - loss: 0.9327 - accuracy: 0.7630 - val_loss: 0.8650 - val_accuracy: 0.7448\n",
      "Epoch 5/15\n",
      "14/14 [==============================] - 203s 14s/step - loss: 0.3330 - accuracy: 0.9264 - val_loss: 0.4428 - val_accuracy: 0.8469\n",
      "Epoch 6/15\n",
      "14/14 [==============================] - 201s 14s/step - loss: 0.1000 - accuracy: 0.9815 - val_loss: 0.3237 - val_accuracy: 0.8840\n",
      "Epoch 7/15\n",
      "14/14 [==============================] - 187s 13s/step - loss: 0.0406 - accuracy: 0.9930 - val_loss: 0.1804 - val_accuracy: 0.9466\n",
      "Epoch 8/15\n",
      "14/14 [==============================] - 189s 13s/step - loss: 0.0219 - accuracy: 0.9983 - val_loss: 0.1632 - val_accuracy: 0.9420\n",
      "Epoch 9/15\n",
      "14/14 [==============================] - 188s 13s/step - loss: 0.0119 - accuracy: 1.0000 - val_loss: 0.1210 - val_accuracy: 0.9606\n",
      "Epoch 10/15\n",
      "14/14 [==============================] - 215s 15s/step - loss: 0.0069 - accuracy: 1.0000 - val_loss: 0.1365 - val_accuracy: 0.9443\n",
      "Epoch 11/15\n",
      "14/14 [==============================] - 209s 15s/step - loss: 0.0058 - accuracy: 0.9994 - val_loss: 0.1224 - val_accuracy: 0.9606\n",
      "Epoch 12/15\n",
      "14/14 [==============================] - 209s 15s/step - loss: 0.0061 - accuracy: 1.0000 - val_loss: 0.1321 - val_accuracy: 0.9582\n",
      "Epoch 13/15\n",
      "14/14 [==============================] - 211s 15s/step - loss: 0.0032 - accuracy: 1.0000 - val_loss: 0.0879 - val_accuracy: 0.9745\n",
      "Epoch 14/15\n",
      "14/14 [==============================] - 209s 15s/step - loss: 0.0018 - accuracy: 1.0000 - val_loss: 0.0877 - val_accuracy: 0.9791\n",
      "Epoch 15/15\n",
      "14/14 [==============================] - 208s 15s/step - loss: 0.0013 - accuracy: 1.0000 - val_loss: 0.1136 - val_accuracy: 0.9652\n"
     ]
    }
   ],
   "source": [
    "epochs = 15\n",
    "history2 = model2.fit(\n",
    "  train_ds,\n",
    "  validation_data=test_ds,\n",
    "  epochs=epochs\n",
    ")"
   ]
  },
  {
   "cell_type": "code",
   "execution_count": 73,
   "id": "e4947ae6",
   "metadata": {},
   "outputs": [
    {
     "data": {
      "image/png": "[encoded data removed]",
      "text/plain": [
       "<Figure size 576x576 with 2 Axes>"
      ]
     },
     "metadata": {
      "needs_background": "light"
     },
     "output_type": "display_data"
    }
   ],
   "source": [
    "acc = history2.history['accuracy']\n",
    "val_acc = history2.history['val_accuracy']\n",
    "\n",
    "loss = history2.history['loss']\n",
    "val_loss = history2.history['val_loss']\n",
    "\n",
    "epochs_range = range(epochs)\n",
    "\n",
    "plt.figure(figsize=(8, 8))\n",
    "plt.subplot(1, 2, 1)\n",
    "plt.plot(epochs_range, acc, label='Training Accuracy')\n",
    "plt.plot(epochs_range, val_acc, label='Validation Accuracy')\n",
    "plt.legend(loc='lower right')\n",
    "plt.title('Training and Validation Accuracy')\n",
    "\n",
    "plt.subplot(1, 2, 2)\n",
    "plt.plot(epochs_range, loss, label='Training Loss')\n",
    "plt.plot(epochs_range, val_loss, label='Validation Loss')\n",
    "plt.legend(loc='upper right')\n",
    "plt.title('Training and Validation Loss')\n",
    "plt.show()"
   ]
  },
  {
   "cell_type": "markdown",
   "id": "84bcfe45",
   "metadata": {},
   "source": [
    "# Serialization"
   ]
  },
  {
   "cell_type": "code",
   "execution_count": 74,
   "id": "1b07abfd",
   "metadata": {},
   "outputs": [
    {
     "name": "stderr",
     "output_type": "stream",
     "text": [
      "WARNING:absl:Found untraced functions such as _jit_compiled_convolution_op, _jit_compiled_convolution_op, _jit_compiled_convolution_op while saving (showing 3 of 3). These functions will not be directly callable after loading.\n"
     ]
    },
    {
     "name": "stdout",
     "output_type": "stream",
     "text": [
      "INFO:tensorflow:Assets written to: my_model\\assets\n"
     ]
    },
    {
     "name": "stderr",
     "output_type": "stream",
     "text": [
      "INFO:tensorflow:Assets written to: my_model\\assets\n"
     ]
    }
   ],
   "source": [
    "model2.save('my_model')"
   ]
  }
 ],
 "metadata": {
  "kernelspec": {
   "display_name": "Python 3",
   "language": "python",
   "name": "python3"
  },
  "language_info": {
   "codemirror_mode": {
    "name": "ipython",
    "version": 3
   },
   "file_extension": ".py",
   "mimetype": "text/x-python",
   "name": "python",
   "nbconvert_exporter": "python",
   "pygments_lexer": "ipython3",
   "version": "3.8.8"
  }
 },
 "nbformat": 4,
 "nbformat_minor": 5
}
